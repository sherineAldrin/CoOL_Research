{
 "cells": [
  {
   "cell_type": "markdown",
   "id": "321b228a-e5fb-46ac-980b-5d87c1ef2390",
   "metadata": {},
   "source": [
    "### Working with ORAS5 Data"
   ]
  },
  {
   "cell_type": "code",
   "execution_count": 1,
   "id": "70be4449-517c-4f39-9ca5-f11267223ee6",
   "metadata": {},
   "outputs": [],
   "source": [
    "import xarray as xr\n",
    "import numpy as np\n",
    "import matplotlib.pyplot as plt\n",
    "import csv\n",
    "import os\n",
    "import pandas as pd\n",
    "import re # Import for regex\n",
    "import shapefile\n",
    "import geopandas as gpd\n",
    "from matplotlib import gridspec"
   ]
  },
  {
   "cell_type": "code",
   "execution_count": 2,
   "id": "75f06b91-1392-4993-a28f-95880f215a6e",
   "metadata": {},
   "outputs": [],
   "source": [
    "import matplotlib.path as mplPath## testing"
   ]
  },
  {
   "cell_type": "code",
   "execution_count": 3,
   "id": "17145221-5d2e-4d20-a926-5910df3e7825",
   "metadata": {},
   "outputs": [],
   "source": [
    "def get_all_nc_files(folder):\n",
    "    nc_files = []\n",
    "    for root, dirs, files in os.walk(folder):\n",
    "        for file in files:\n",
    "            if file.endswith(\".nc\"):\n",
    "                nc_files.append(os.path.join(root, file))\n",
    "                #nc_files.append(file)\n",
    "    return nc_files"
   ]
  },
  {
   "cell_type": "markdown",
   "id": "a3c358dc-4137-418f-ba2a-a46040e79488",
   "metadata": {},
   "source": [
    "#### Getting the data"
   ]
  },
  {
   "cell_type": "code",
   "execution_count": 4,
   "id": "6964664c-262d-4a6c-9458-d013401c2bd9",
   "metadata": {},
   "outputs": [],
   "source": [
    "omg_ncs = get_all_nc_files('/Users/sherine_aldrin/Downloads/CoOL/ORAS5/OMG_data')\n",
    "omg_data = omg_ncs"
   ]
  },
  {
   "cell_type": "code",
   "execution_count": 5,
   "id": "a76ddafd-4945-46d0-9e32-aae07251ae60",
   "metadata": {},
   "outputs": [],
   "source": [
    "oras_base_path = \"/Users/sherine_aldrin/Downloads/CoOL/ORAS5\"\n",
    "oras_data = [os.path.join(oras_base_path, file) for file in ['votemper_control_monthly_highres_3D_201710_OPER_v0.1.nc',\n",
    "                                                             'votemper_control_monthly_highres_3D_201610_OPER_v0.1.nc',\n",
    "                                                             'votemper_control_monthly_highres_3D_201609_OPER_v0.1.nc'\n",
    "                                                            ]]"
   ]
  },
  {
   "cell_type": "markdown",
   "id": "31199886-f853-4570-b358-25b761fd29ca",
   "metadata": {},
   "source": [
    "### with all this data, now I want to actually put it into a summary csv file to plot later on"
   ]
  },
  {
   "cell_type": "code",
   "execution_count": 6,
   "id": "44c1e5f1-9f13-4c09-ab9e-ef3cc6ad6d0f",
   "metadata": {},
   "outputs": [],
   "source": [
    "### read orasdata for each variable\n",
    "\n",
    "def read_oras5_temperature(nc_path):\n",
    "        ds = xr.open_dataset(nc_path)\n",
    "        temp = ds['votemper'].values\n",
    "        depth = ds['deptht'].values\n",
    "        lat = ds['nav_lat'].values\n",
    "        lon = ds['nav_lon'].values\n",
    "        ds.close()\n",
    "        return temp, depth, lat, lon"
   ]
  },
  {
   "cell_type": "code",
   "execution_count": 7,
   "id": "589d04e1-43a8-4760-9f33-09cfed8119b1",
   "metadata": {},
   "outputs": [],
   "source": [
    "# returns distances between my point and all the other points, from Prof\n",
    "def great_circle_distance(lon_ref, lat_ref, Lon, Lat):\n",
    "    earth_radius = 6371000\n",
    "    lon_ref_radians = np.radians(lon_ref)\n",
    "    lat_ref_radians = np.radians(lat_ref)\n",
    "    lons_radians = np.radians(Lon)\n",
    "    lats_radians = np.radians(Lat)\n",
    "    lat_diff = lats_radians - lat_ref_radians\n",
    "    lon_diff = lons_radians - lon_ref_radians\n",
    "    d = np.sin(lat_diff * 0.5) ** 2 + np.cos(lat_ref_radians) * np.cos(lats_radians) * np.sin(lon_diff * 0.5) ** 2\n",
    "    h = 2 * earth_radius * np.arcsin(np.sqrt(d))\n",
    "    return(h)"
   ]
  },
  {
   "cell_type": "markdown",
   "id": "296f8c1f-6f72-4a70-b047-b3cd3d6c0eac",
   "metadata": {},
   "source": [
    "#### temp only for now to make sure it works"
   ]
  },
  {
   "cell_type": "code",
   "execution_count": 8,
   "id": "e93c9706-1be9-4a81-b819-9ebf7137a34b",
   "metadata": {},
   "outputs": [
    {
     "name": "stdout",
     "output_type": "stream",
     "text": [
      "Saved: ORAS5_Temp_Profiles.csv\n"
     ]
    }
   ],
   "source": [
    "# To have for the csv file\n",
    "summary_rows = []\n",
    "\n",
    "# Read ORAS5 temperature\n",
    "temp, depth, lat_grid, lon_grid = read_oras5_temperature(oras_data[0])\n",
    "if temp is None:\n",
    "    raise RuntimeError(\"Failed to read ORAS5 file\")\n",
    "\n",
    "# Loop over OMG CTD files\n",
    "for path in omg_data:\n",
    "    try:\n",
    "        omg = xr.open_dataset(path)\n",
    "        lat_omg = omg.attrs[\"latitude\"]\n",
    "        lon_omg = omg.attrs[\"longitude\"]\n",
    "    except Exception as e:\n",
    "        print(f\"Skipping {path} due to error: {e}\")\n",
    "        continue\n",
    "\n",
    "    # Find closest ORAS5 grid point to the OMG data\n",
    "    dists = great_circle_distance(lon_omg, lat_omg, lon_grid, lat_grid)\n",
    "    min_idx = np.unravel_index(np.argmin(dists), dists.shape)\n",
    "    y, x = min_idx\n",
    "    closest_profile = temp[0, :, y, x]\n",
    "\n",
    "    if np.any(~np.isnan(closest_profile)) and np.any(closest_profile != 0):\n",
    "        summary_rows.append({\n",
    "            \"CTD_file\": os.path.basename(path),\n",
    "            \"Var_type\": \"THETA\",\n",
    "            \"ORAS5 lon(X)\": lon_grid[min_idx],\n",
    "            \"ORAS5 lat(Y)\": lat_grid[min_idx],\n",
    "            \"OMG lon(X)\": lon_omg,\n",
    "            \"OMG lat(Y)\": lat_omg,\n",
    "            \"Profile\": closest_profile.tolist()\n",
    "            \n",
    "        })\n",
    "\n",
    "# Save to CSV\n",
    "with open(\"ORAS5_Temp_Profiles.csv\", \"w\", newline=\"\") as f:\n",
    "    writer = csv.DictWriter(f, fieldnames=[\"CTD_file\", \"Var_type\", \"ORAS5 lon(X)\", \"ORAS5 lat(Y)\", \"OMG lon(X)\", \"OMG lat(Y)\", \"Profile\"])\n",
    "    writer.writeheader()\n",
    "    writer.writerows(summary_rows)\n",
    "\n",
    "print(\"Saved: ORAS5_Temp_Profiles.csv\")\n"
   ]
  },
  {
   "cell_type": "markdown",
   "id": "0f9b11e0-d53c-46c7-a27e-156389fde1f0",
   "metadata": {},
   "source": [
    "### Now looping over all the temp and salinity files"
   ]
  },
  {
   "cell_type": "code",
   "execution_count": 9,
   "id": "40233c09-0999-4ee5-9c03-cf34defac24d",
   "metadata": {},
   "outputs": [],
   "source": [
    "oras_base_path = \"/Users/sherine_aldrin/Downloads/CoOL/ORAS5\"\n",
    "oras_temp_data = [os.path.join(oras_base_path, file) for file in ['votemper_control_monthly_highres_3D_201609_OPER_v0.1.nc',\n",
    "                                                             'votemper_control_monthly_highres_3D_201610_OPER_v0.1.nc',\n",
    "                                                             'votemper_control_monthly_highres_3D_201710_OPER_v0.1.nc',\n",
    "                                                            ]]\n",
    "\n",
    "oras_salt_data = [os.path.join(oras_base_path, file) for file in ['vosaline_control_monthly_highres_3D_201710_OPER_v0.1.nc',\n",
    "                                                                 'vosaline_control_monthly_highres_3D_201610_OPER_v0.1.nc',\n",
    "                                                                 'vosaline_control_monthly_highres_3D_201609_OPER_v0.1.nc']]"
   ]
  },
  {
   "cell_type": "code",
   "execution_count": 10,
   "id": "73d21a32-614f-4e66-99f7-3e9aca58f8e4",
   "metadata": {},
   "outputs": [],
   "source": [
    "### read orasdata for each variable\n",
    "def read_oras5_temperature(nc_path):\n",
    "        ds = xr.open_dataset(nc_path)\n",
    "        temp = ds['votemper'].values\n",
    "        depth = ds['deptht'].values\n",
    "        lat = ds['nav_lat'].values\n",
    "        lon = ds['nav_lon'].values\n",
    "        ds.close()\n",
    "        return temp, depth, lat, lon\n",
    "\n",
    "def read_oras5_salt(nc_path):\n",
    "        ds = xr.open_dataset(nc_path)\n",
    "        depth = ds['deptht'].values\n",
    "        lat = ds['nav_lat'].values\n",
    "        lon = ds['nav_lon'].values\n",
    "        salt = ds['vosaline'].values\n",
    "        ds.close()\n",
    "        return salt, depth, lat, lon\n",
    "\n",
    "# returns distances between my point and all the other points, from Prof\n",
    "def great_circle_distance(lon_ref, lat_ref, Lon, Lat):\n",
    "    earth_radius = 6371000\n",
    "    lon_ref_radians = np.radians(lon_ref)\n",
    "    lat_ref_radians = np.radians(lat_ref)\n",
    "    lons_radians = np.radians(Lon)\n",
    "    lats_radians = np.radians(Lat)\n",
    "    lat_diff = lats_radians - lat_ref_radians\n",
    "    lon_diff = lons_radians - lon_ref_radians\n",
    "    d = np.sin(lat_diff * 0.5) ** 2 + np.cos(lat_ref_radians) * np.cos(lats_radians) * np.sin(lon_diff * 0.5) ** 2\n",
    "    h = 2 * earth_radius * np.arcsin(np.sqrt(d))\n",
    "    return(h)\n",
    "\n",
    "# get year from OMG filename\n",
    "def extract_year_from_omg(fname):\n",
    "    match = re.search(r'_(\\d{4})\\d{2}', fname)\n",
    "    return match.group(1) if match else None\n",
    "\n",
    "# get year from ORAS5 filename\n",
    "def extract_year_month_from_oras(fname):\n",
    "    match = re.search(r'(\\d{4})(\\d{2})_OPER', fname)\n",
    "    return (match.group(1), match.group(2)) if match else (None, None)"
   ]
  },
  {
   "cell_type": "code",
   "execution_count": 11,
   "id": "98698ea6-c813-4727-97ca-badccf2b5ddf",
   "metadata": {},
   "outputs": [
    {
     "name": "stdout",
     "output_type": "stream",
     "text": [
      "Saved: ALL ORAS5_Temp_Profiles.csv\n",
      "Saved: ALL ORAS5_Salt_Profiles.csv\n"
     ]
    }
   ],
   "source": [
    "# To have for the csv file\n",
    "temp_summary_rows = []\n",
    "salt_summary_rows = []\n",
    "\n",
    "# Read ORAS5 temperature\n",
    "for oras_data in oras_temp_data:\n",
    "    year, month = extract_year_month_from_oras(os.path.basename(oras_data))                           #### ORAS YEAR\n",
    "    \n",
    "    temp, depth, lat_grid, lon_grid = read_oras5_temperature(oras_data)\n",
    "    if temp is None:\n",
    "        raise RuntimeError(\"Failed to read ORAS5 file\")\n",
    "\n",
    "    # Loop over OMG CTD files\n",
    "    for path in omg_data:\n",
    "        try:\n",
    "            omg = xr.open_dataset(path)\n",
    "            lat_omg = omg.attrs[\"latitude\"]\n",
    "            lon_omg = omg.attrs[\"longitude\"]\n",
    "            omg_year = str(omg.attrs.get(\"year\", \"\"))\n",
    "            omg_month = str(omg.attrs.get(\"month\", \"\")).zfill(2)\n",
    "        except Exception as e:\n",
    "            print(f\"Skipping {path} due to error: {e}\")\n",
    "            continue\n",
    "\n",
    "        if omg_year != year or omg_month != month:\n",
    "            continue\n",
    "\n",
    "        # Find closest ORAS5 grid point to the OMG data\n",
    "        \n",
    "        dists = great_circle_distance(lon_omg, lat_omg, lon_grid, lat_grid)\n",
    "        min_dist = dists.min() / 1000 # 1000 to convert m to km\n",
    "        min_idx = np.unravel_index(np.argmin(dists), dists.shape)\n",
    "        y, x = min_idx\n",
    "        closest_profile = temp[0, :, y, x]\n",
    "        \n",
    "        if np.any(~np.isnan(closest_profile)) and np.any(closest_profile != 0):\n",
    "            temp_summary_rows.append({\n",
    "                \"CTD_file\": os.path.basename(path),\n",
    "                \"Var_type\": \"Theta\",\n",
    "                \"ORAS5 lon(X)\": lon_grid[min_idx],\n",
    "                \"ORAS5 lat(Y)\": lat_grid[min_idx],\n",
    "                \"OMG lon(X)\": lon_omg,\n",
    "                \"OMG lat(Y)\": lat_omg,\n",
    "                \"Distance\": min_dist,\n",
    "                \"Year\": year,\n",
    "                \"Month\": month,\n",
    "                \"Profile\": closest_profile.tolist()\n",
    "            \n",
    "            })\n",
    "\n",
    "\n",
    "# Read ORAS5 salinity\n",
    "for oras_data in oras_salt_data:\n",
    "    year, month = extract_year_month_from_oras(os.path.basename(oras_data))                           #### ORAS YEAR\n",
    "    \n",
    "    salt, depth, lat_grid, lon_grid = read_oras5_salt(oras_data)\n",
    "    if salt is None:\n",
    "        raise RuntimeError(\"Failed to read ORAS5 file\")\n",
    "\n",
    "    # Loop over OMG CTD files\n",
    "    for path in omg_data:\n",
    "        try:\n",
    "            omg = xr.open_dataset(path)\n",
    "            lat_omg = omg.attrs[\"latitude\"]\n",
    "            lon_omg = omg.attrs[\"longitude\"]\n",
    "            omg_year = str(omg.attrs.get(\"year\", \"\"))\n",
    "            omg_month = str(omg.attrs.get(\"month\", \"\")).zfill(2)\n",
    "        except Exception as e:\n",
    "            print(f\"Skipping {path} due to error: {e}\")\n",
    "            continue\n",
    "\n",
    "        if omg_year != year or omg_month != month:\n",
    "            continue\n",
    "            \n",
    "        # Find closest ORAS5 grid point to the OMG data\n",
    "        \n",
    "        dists = great_circle_distance(lon_omg, lat_omg, lon_grid, lat_grid)\n",
    "        min_dist = dists.min() / 1000 # 1000 to convert m to km\n",
    "        min_idx = np.unravel_index(np.argmin(dists), dists.shape)\n",
    "        y, x = min_idx\n",
    "        closest_profile = salt[0, :, y, x]\n",
    "        \n",
    "        if np.any(~np.isnan(closest_profile)) and np.any(closest_profile != 0):\n",
    "            salt_summary_rows.append({\n",
    "                \"CTD_file\": os.path.basename(path),\n",
    "                \"Var_type\": \"Salinity\",\n",
    "                \"ORAS5 lon(X)\": lon_grid[min_idx],\n",
    "                \"ORAS5 lat(Y)\": lat_grid[min_idx],\n",
    "                \"OMG lon(X)\": lon_omg,\n",
    "                \"OMG lat(Y)\": lat_omg,\n",
    "                \"Distance\": min_dist,\n",
    "                \"Year\": year,\n",
    "                \"Month\": month,\n",
    "                \"Profile\": closest_profile.tolist()\n",
    "            \n",
    "            })\n",
    "\n",
    "# Save to CSV\n",
    "with open(\"Temp_ORAS5_Profiles.csv\", \"w\", newline=\"\") as f:\n",
    "    writer = csv.DictWriter(f, fieldnames=[\"CTD_file\", \"Var_type\", \"ORAS5 lon(X)\", \"ORAS5 lat(Y)\", \"OMG lon(X)\", \"OMG lat(Y)\", \"Distance\", \"Year\", \"Month\", \"Profile\"])\n",
    "    writer.writeheader()\n",
    "    writer.writerows(temp_summary_rows)\n",
    "\n",
    "print(\"Saved: ALL ORAS5_Temp_Profiles.csv\")\n",
    "\n",
    "with open(\"Salt_ORAS5_Profiles.csv\", \"w\", newline=\"\") as f:\n",
    "    writer = csv.DictWriter(f, fieldnames=[\"CTD_file\", \"Var_type\", \"ORAS5 lon(X)\", \"ORAS5 lat(Y)\", \"OMG lon(X)\", \"OMG lat(Y)\", \"Distance\", \"Year\", \"Month\", \"Profile\"])\n",
    "    writer.writeheader()\n",
    "    writer.writerows(salt_summary_rows)\n",
    "\n",
    "print(\"Saved: ALL ORAS5_Salt_Profiles.csv\")"
   ]
  },
  {
   "cell_type": "markdown",
   "id": "77a91466-39b3-403d-ae0b-c8056718b9ab",
   "metadata": {},
   "source": [
    "### Now with the csv I need to sort by region too"
   ]
  },
  {
   "cell_type": "raw",
   "id": "f891fa7e-1c9d-4fd7-9c09-eb8b2df3d1ff",
   "metadata": {},
   "source": [
    "### Sanity checking the omg data\n",
    "testing = [os.path.join(oras_base_path, file) for file in omg_data] #just testing with this one for now\n",
    "xr.open_dataset(testing[2])"
   ]
  },
  {
   "cell_type": "code",
   "execution_count": 12,
   "id": "b62ecf27-74a2-497a-aae6-e8215687e778",
   "metadata": {},
   "outputs": [
    {
     "data": {
      "text/html": [
       "<div>\n",
       "<style scoped>\n",
       "    .dataframe tbody tr th:only-of-type {\n",
       "        vertical-align: middle;\n",
       "    }\n",
       "\n",
       "    .dataframe tbody tr th {\n",
       "        vertical-align: top;\n",
       "    }\n",
       "\n",
       "    .dataframe thead th {\n",
       "        text-align: right;\n",
       "    }\n",
       "</style>\n",
       "<table border=\"1\" class=\"dataframe\">\n",
       "  <thead>\n",
       "    <tr style=\"text-align: right;\">\n",
       "      <th></th>\n",
       "      <th>File_ID</th>\n",
       "      <th>Type</th>\n",
       "      <th>Year</th>\n",
       "      <th>Month</th>\n",
       "      <th>Day</th>\n",
       "      <th>Hour</th>\n",
       "      <th>Minute</th>\n",
       "      <th>Second</th>\n",
       "      <th>Longitude</th>\n",
       "      <th>Latitude</th>\n",
       "    </tr>\n",
       "  </thead>\n",
       "  <tbody>\n",
       "    <tr>\n",
       "      <th>0</th>\n",
       "      <td>20150725_071758</td>\n",
       "      <td>CTDs</td>\n",
       "      <td>2015</td>\n",
       "      <td>7</td>\n",
       "      <td>25</td>\n",
       "      <td>7</td>\n",
       "      <td>17</td>\n",
       "      <td>58</td>\n",
       "      <td>-51.232500</td>\n",
       "      <td>69.305000</td>\n",
       "    </tr>\n",
       "    <tr>\n",
       "      <th>1</th>\n",
       "      <td>20150725_084435</td>\n",
       "      <td>CTDs</td>\n",
       "      <td>2015</td>\n",
       "      <td>7</td>\n",
       "      <td>25</td>\n",
       "      <td>8</td>\n",
       "      <td>44</td>\n",
       "      <td>35</td>\n",
       "      <td>-51.071110</td>\n",
       "      <td>69.380554</td>\n",
       "    </tr>\n",
       "    <tr>\n",
       "      <th>2</th>\n",
       "      <td>20150725_095319</td>\n",
       "      <td>CTDs</td>\n",
       "      <td>2015</td>\n",
       "      <td>7</td>\n",
       "      <td>25</td>\n",
       "      <td>9</td>\n",
       "      <td>53</td>\n",
       "      <td>19</td>\n",
       "      <td>-50.955276</td>\n",
       "      <td>69.461945</td>\n",
       "    </tr>\n",
       "    <tr>\n",
       "      <th>3</th>\n",
       "      <td>20150725_141226</td>\n",
       "      <td>CTDs</td>\n",
       "      <td>2015</td>\n",
       "      <td>7</td>\n",
       "      <td>25</td>\n",
       "      <td>14</td>\n",
       "      <td>12</td>\n",
       "      <td>26</td>\n",
       "      <td>-50.958057</td>\n",
       "      <td>69.520280</td>\n",
       "    </tr>\n",
       "    <tr>\n",
       "      <th>4</th>\n",
       "      <td>20150725_155059</td>\n",
       "      <td>CTDs</td>\n",
       "      <td>2015</td>\n",
       "      <td>7</td>\n",
       "      <td>25</td>\n",
       "      <td>15</td>\n",
       "      <td>50</td>\n",
       "      <td>59</td>\n",
       "      <td>-50.930832</td>\n",
       "      <td>69.652220</td>\n",
       "    </tr>\n",
       "  </tbody>\n",
       "</table>\n",
       "</div>"
      ],
      "text/plain": [
       "           File_ID  Type  Year  Month  Day  Hour  Minute  Second  Longitude  \\\n",
       "0  20150725_071758  CTDs  2015      7   25     7      17      58 -51.232500   \n",
       "1  20150725_084435  CTDs  2015      7   25     8      44      35 -51.071110   \n",
       "2  20150725_095319  CTDs  2015      7   25     9      53      19 -50.955276   \n",
       "3  20150725_141226  CTDs  2015      7   25    14      12      26 -50.958057   \n",
       "4  20150725_155059  CTDs  2015      7   25    15      50      59 -50.930832   \n",
       "\n",
       "    Latitude  \n",
       "0  69.305000  \n",
       "1  69.380554  \n",
       "2  69.461945  \n",
       "3  69.520280  \n",
       "4  69.652220  "
      ]
     },
     "execution_count": 12,
     "metadata": {},
     "output_type": "execute_result"
    }
   ],
   "source": [
    "omg_loc_path = '/Users/sherine_aldrin/Downloads/CoOL/ORAS5/OMG_CTD_Locations.csv'\n",
    "df = pd.read_csv(omg_loc_path)\n",
    "df.head()"
   ]
  },
  {
   "cell_type": "code",
   "execution_count": 13,
   "id": "6e52df9d-e18d-4d55-ab48-5fe74934f7d6",
   "metadata": {},
   "outputs": [],
   "source": [
    "shapefile_path = '/Users/sherine_aldrin/Downloads/CoOL/ORAS5/sample_polygons/sample_polygons'"
   ]
  },
  {
   "cell_type": "code",
   "execution_count": 14,
   "id": "824fa06b-9c7a-4356-addc-c37f96204e48",
   "metadata": {},
   "outputs": [
    {
     "name": "stdout",
     "output_type": "stream",
     "text": [
      "SE\n",
      "CE\n",
      "NE\n",
      "N\n",
      "NW\n",
      "CW\n",
      "SW\n"
     ]
    }
   ],
   "source": [
    "\n",
    "# read in the polygons from the shapefile \n",
    "polygons = {}\n",
    "sf = shapefile.Reader(shapefile_path)\n",
    "for s, shape in enumerate(sf.shapes()):\n",
    "    region = sf.records()[s][0]\n",
    "    print(region)\n",
    "    polygons[region] = np.array(shape.points)\n",
    "regions = list(polygons.keys())\n"
   ]
  },
  {
   "cell_type": "code",
   "execution_count": 15,
   "id": "5dfc06b4-ae9f-494c-9a9f-5b8af16d4760",
   "metadata": {},
   "outputs": [],
   "source": [
    "# polygons ---> # used for testing"
   ]
  },
  {
   "cell_type": "code",
   "execution_count": 16,
   "id": "30790662-fb81-40bb-9ed0-7469f3a666b3",
   "metadata": {},
   "outputs": [
    {
     "data": {
      "text/plain": [
       "array([[-44.57318614,  58.60126296],\n",
       "       [-44.44758396,  60.53791117],\n",
       "       [-44.58309449,  60.70161346],\n",
       "       [-44.24616147,  60.84957981],\n",
       "       [-44.29089564,  61.28576769],\n",
       "       [-44.1139009 ,  61.50285335],\n",
       "       [-44.73775501,  61.97029822],\n",
       "       [-44.99922675,  62.60040239],\n",
       "       [-44.93854915,  63.10816924],\n",
       "       [-44.84698876,  63.20427623],\n",
       "       [-44.72211358,  63.4928424 ],\n",
       "       [-44.33408239,  64.20793792],\n",
       "       [-44.70158917,  65.2600161 ],\n",
       "       [-44.25152846,  65.91018576],\n",
       "       [-43.1217853 ,  66.85979128],\n",
       "       [-40.50663995,  68.35931801],\n",
       "       [-37.95779978,  69.2774126 ],\n",
       "       [-35.46938873,  66.52565306],\n",
       "       [-29.07298862,  65.25924071],\n",
       "       [-31.40870324,  64.02598472],\n",
       "       [-32.48963207,  63.44735367],\n",
       "       [-40.99165145,  58.46965455],\n",
       "       [-44.57318614,  58.60126296]])"
      ]
     },
     "execution_count": 16,
     "metadata": {},
     "output_type": "execute_result"
    }
   ],
   "source": [
    "polygons['SE']"
   ]
  },
  {
   "cell_type": "code",
   "execution_count": 17,
   "id": "a2927f91-bcc4-4da7-b6a1-a3e981183792",
   "metadata": {},
   "outputs": [
    {
     "data": {
      "image/png": "[encoded data removed]",
      "text/plain": [
       "<Figure size 640x480 with 1 Axes>"
      ]
     },
     "metadata": {},
     "output_type": "display_data"
    }
   ],
   "source": [
    "plt.plot(df['Longitude'], df['Latitude'], 'k.')\n",
    "for region in polygons:\n",
    "    plt.plot(polygons[region][:,0], polygons[region][:,1])"
   ]
  },
  {
   "cell_type": "code",
   "execution_count": 18,
   "id": "4a9a890c-d360-4426-8491-72d22f9a6f64",
   "metadata": {},
   "outputs": [],
   "source": [
    "# Color coding a region example"
   ]
  },
  {
   "cell_type": "code",
   "execution_count": 19,
   "id": "dce1a4ba-f4c9-4a09-8ea9-36e209a5532d",
   "metadata": {},
   "outputs": [],
   "source": [
    "region = 'N'\n",
    "\n",
    "# make a path called p\n",
    "p = mplPath.Path(polygons[region])\n",
    "\n",
    "# use the path to sample if a given point is inside\n",
    "all_points = np.column_stack([df['Longitude'], df['Latitude']])\n",
    "inside = p.contains_points(all_points)\n",
    "\n",
    "# \n",
    "df_region = df[inside]"
   ]
  },
  {
   "cell_type": "code",
   "execution_count": 20,
   "id": "9e70c49e-95e1-4d93-be12-97dffa78a6d8",
   "metadata": {},
   "outputs": [
    {
     "data": {
      "text/plain": [
       "[<matplotlib.lines.Line2D at 0x167d7e550>]"
      ]
     },
     "execution_count": 20,
     "metadata": {},
     "output_type": "execute_result"
    },
    {
     "data": {
      "image/png": "[encoded data removed]",
      "text/plain": [
       "<Figure size 640x480 with 1 Axes>"
      ]
     },
     "metadata": {},
     "output_type": "display_data"
    }
   ],
   "source": [
    "plt.plot(df['Longitude'], df['Latitude'], 'k.')\n",
    "for region in polygons:\n",
    "    plt.plot(polygons[region][:,0], polygons[region][:,1])\n",
    "plt.plot(df_region['Longitude'], df_region['Latitude'], 'g.', markersize=10)"
   ]
  },
  {
   "cell_type": "markdown",
   "id": "12d3b1c1-98db-4938-a3d8-bf0948e4b829",
   "metadata": {},
   "source": [
    "### Now that I can isolate the omg points in their regions, I need to iterate through the csv, check the lon and lat, and see which region they're in"
   ]
  },
  {
   "cell_type": "code",
   "execution_count": 21,
   "id": "1e994b6f-bcd6-407e-9d91-f4b692b82663",
   "metadata": {},
   "outputs": [
    {
     "data": {
      "text/html": [
       "<div>\n",
       "<style scoped>\n",
       "    .dataframe tbody tr th:only-of-type {\n",
       "        vertical-align: middle;\n",
       "    }\n",
       "\n",
       "    .dataframe tbody tr th {\n",
       "        vertical-align: top;\n",
       "    }\n",
       "\n",
       "    .dataframe thead th {\n",
       "        text-align: right;\n",
       "    }\n",
       "</style>\n",
       "<table border=\"1\" class=\"dataframe\">\n",
       "  <thead>\n",
       "    <tr style=\"text-align: right;\">\n",
       "      <th></th>\n",
       "      <th>CTD_file</th>\n",
       "      <th>Var_type</th>\n",
       "      <th>ORAS5 lon(X)</th>\n",
       "      <th>ORAS5 lat(Y)</th>\n",
       "      <th>OMG lon(X)</th>\n",
       "      <th>OMG lat(Y)</th>\n",
       "      <th>Distance</th>\n",
       "      <th>Year</th>\n",
       "      <th>Month</th>\n",
       "      <th>Profile</th>\n",
       "    </tr>\n",
       "  </thead>\n",
       "  <tbody>\n",
       "    <tr>\n",
       "      <th>0</th>\n",
       "      <td>CTD_20160916_140334.nc</td>\n",
       "      <td>Theta</td>\n",
       "      <td>-65.157410</td>\n",
       "      <td>74.696080</td>\n",
       "      <td>-65.246246</td>\n",
       "      <td>74.732773</td>\n",
       "      <td>4.840273</td>\n",
       "      <td>2016</td>\n",
       "      <td>9</td>\n",
       "      <td>[3.2723419666290283, 3.267146587371826, 3.2632...</td>\n",
       "    </tr>\n",
       "    <tr>\n",
       "      <th>1</th>\n",
       "      <td>CTD_20160923_153439.nc</td>\n",
       "      <td>Theta</td>\n",
       "      <td>-64.799130</td>\n",
       "      <td>81.217080</td>\n",
       "      <td>-64.780159</td>\n",
       "      <td>81.222504</td>\n",
       "      <td>0.684310</td>\n",
       "      <td>2016</td>\n",
       "      <td>9</td>\n",
       "      <td>[-1.5203176736831665, -1.5193787813186646, -1....</td>\n",
       "    </tr>\n",
       "    <tr>\n",
       "      <th>2</th>\n",
       "      <td>CTD_20160914_145226.nc</td>\n",
       "      <td>Theta</td>\n",
       "      <td>-52.532910</td>\n",
       "      <td>69.155700</td>\n",
       "      <td>-52.412819</td>\n",
       "      <td>69.198280</td>\n",
       "      <td>6.704399</td>\n",
       "      <td>2016</td>\n",
       "      <td>9</td>\n",
       "      <td>[5.195065021514893, 5.195621967315674, 5.19637...</td>\n",
       "    </tr>\n",
       "    <tr>\n",
       "      <th>3</th>\n",
       "      <td>CTD_20160924_155359.nc</td>\n",
       "      <td>Theta</td>\n",
       "      <td>-61.277233</td>\n",
       "      <td>73.705666</td>\n",
       "      <td>-61.269279</td>\n",
       "      <td>73.738861</td>\n",
       "      <td>3.699407</td>\n",
       "      <td>2016</td>\n",
       "      <td>9</td>\n",
       "      <td>[4.5973334312438965, 4.594786167144775, 4.5931...</td>\n",
       "    </tr>\n",
       "    <tr>\n",
       "      <th>4</th>\n",
       "      <td>CTD_20160928_133513.nc</td>\n",
       "      <td>Theta</td>\n",
       "      <td>-58.345640</td>\n",
       "      <td>74.045364</td>\n",
       "      <td>-58.261341</td>\n",
       "      <td>74.033386</td>\n",
       "      <td>2.901395</td>\n",
       "      <td>2016</td>\n",
       "      <td>9</td>\n",
       "      <td>[3.8334763050079346, 3.828251600265503, 3.8234...</td>\n",
       "    </tr>\n",
       "  </tbody>\n",
       "</table>\n",
       "</div>"
      ],
      "text/plain": [
       "                 CTD_file Var_type  ORAS5 lon(X)  ORAS5 lat(Y)  OMG lon(X)  \\\n",
       "0  CTD_20160916_140334.nc    Theta    -65.157410     74.696080  -65.246246   \n",
       "1  CTD_20160923_153439.nc    Theta    -64.799130     81.217080  -64.780159   \n",
       "2  CTD_20160914_145226.nc    Theta    -52.532910     69.155700  -52.412819   \n",
       "3  CTD_20160924_155359.nc    Theta    -61.277233     73.705666  -61.269279   \n",
       "4  CTD_20160928_133513.nc    Theta    -58.345640     74.045364  -58.261341   \n",
       "\n",
       "   OMG lat(Y)  Distance  Year  Month  \\\n",
       "0   74.732773  4.840273  2016      9   \n",
       "1   81.222504  0.684310  2016      9   \n",
       "2   69.198280  6.704399  2016      9   \n",
       "3   73.738861  3.699407  2016      9   \n",
       "4   74.033386  2.901395  2016      9   \n",
       "\n",
       "                                             Profile  \n",
       "0  [3.2723419666290283, 3.267146587371826, 3.2632...  \n",
       "1  [-1.5203176736831665, -1.5193787813186646, -1....  \n",
       "2  [5.195065021514893, 5.195621967315674, 5.19637...  \n",
       "3  [4.5973334312438965, 4.594786167144775, 4.5931...  \n",
       "4  [3.8334763050079346, 3.828251600265503, 3.8234...  "
      ]
     },
     "execution_count": 21,
     "metadata": {},
     "output_type": "execute_result"
    }
   ],
   "source": [
    "temps_csv = pd.read_csv('/Users/sherine_aldrin/Downloads/CoOL/ORAS5/Temp_ORAS5_Profiles.csv')\n",
    "temps_csv.head()"
   ]
  },
  {
   "cell_type": "code",
   "execution_count": 22,
   "id": "432b0231-a43a-4fd2-a031-c8cb7820d153",
   "metadata": {},
   "outputs": [
    {
     "name": "stdout",
     "output_type": "stream",
     "text": [
      "-61.26927947998047\n",
      "73.73886108398438\n"
     ]
    }
   ],
   "source": [
    "OMGlon = temps_csv['OMG lon(X)']\n",
    "OMGlat = temps_csv['OMG lat(Y)']\n",
    "\n",
    "print(OMGlon[3])\n",
    "print(OMGlat[3])"
   ]
  },
  {
   "cell_type": "markdown",
   "id": "37d3dc49-bfdc-4f52-98c7-54d670d64b06",
   "metadata": {},
   "source": [
    "#### for each omg coordinate, assign it to a region and add a column to a final csv"
   ]
  },
  {
   "cell_type": "code",
   "execution_count": 23,
   "id": "c944e44b-bb20-4fc8-8999-78bf4d877fb7",
   "metadata": {},
   "outputs": [
    {
     "name": "stdout",
     "output_type": "stream",
     "text": [
      "Saved updated CTD location file with region labels.\n"
     ]
    }
   ],
   "source": [
    "# read in the polygons from the shapefile \n",
    "polygons = {}\n",
    "sf = shapefile.Reader(shapefile_path)\n",
    "for s, shape in enumerate(sf.shapes()):\n",
    "    region = sf.records()[s][0]\n",
    "    polygons[region] = np.array(shape.points)\n",
    "\n",
    "# Assign region to each CTD point\n",
    "df = pd.read_csv(omg_loc_path)  # this has File_ID, Lat, Lon, etc.\n",
    "all_points = np.column_stack([df['Longitude'], df['Latitude']])\n",
    "region_labels = []\n",
    "\n",
    "for lon, lat in all_points:\n",
    "    assigned = False\n",
    "    for region, poly in polygons.items():\n",
    "        path = mplPath.Path(poly)\n",
    "        if path.contains_point((lon, lat)):\n",
    "            region_labels.append(region)\n",
    "            assigned = True\n",
    "            break\n",
    "    if not assigned:\n",
    "        region_labels.append(\"Unassigned\")\n",
    "\n",
    "df['Region'] = region_labels\n",
    "\n",
    "# Save the updated file\n",
    "df.to_csv('/Users/sherine_aldrin/Downloads/CoOL/ORAS5/OMG_CTD_Locations_regional.csv', index=False)\n",
    "print(\"Saved updated CTD location file with region labels.\")\n"
   ]
  },
  {
   "cell_type": "markdown",
   "id": "af2c83b5-e87c-4685-a68b-b1f0b65adc36",
   "metadata": {},
   "source": [
    "### Actually make the histogram"
   ]
  },
  {
   "cell_type": "code",
   "execution_count": 24,
   "id": "ab958b21-2c76-4aa1-809b-aae2d292de6d",
   "metadata": {},
   "outputs": [
    {
     "name": "stdout",
     "output_type": "stream",
     "text": [
      "Saved: /Users/sherine_aldrin/Downloads/CoOL/ORAS5/OMG_CTD_Locations_2016_2017_with_region.csv\n",
      "Saved plots to: oras5_histograms\n"
     ]
    }
   ],
   "source": [
    "# Paths\n",
    "oras_temp_csv = \"Temp_ORAS5_Profiles.csv\"\n",
    "oras_salt_csv = \"Salt_ORAS5_Profiles.csv\"\n",
    "ctd_base_path = \"/Users/sherine_aldrin/Downloads/CoOL/ORAS5/OMG_data\"\n",
    "omg_loc_path = '/Users/sherine_aldrin/Downloads/CoOL/ORAS5/OMG_CTD_Locations.csv'\n",
    "shapefile_path = '/Users/sherine_aldrin/Downloads/CoOL/ORAS5/sample_polygons/sample_polygons'\n",
    "region_output = '/Users/sherine_aldrin/Downloads/CoOL/ORAS5/OMG_CTD_Locations_2016_2017_with_region.csv'\n",
    "output_dir = \"oras5_histograms\"\n",
    "os.makedirs(output_dir, exist_ok=True)\n",
    "\n",
    "# Filter CTD Locations to 2016 & 2017 and Assign Region\n",
    "df = pd.read_csv(omg_loc_path)\n",
    "df = df[df['Year'].isin([2016, 2017])].copy()\n",
    "\n",
    "sf = shapefile.Reader(shapefile_path)\n",
    "polygons = {sf.records()[s][0]: np.array(shape.points) for s, shape in enumerate(sf.shapes())}\n",
    "\n",
    "region_labels = []\n",
    "for lon, lat in zip(df['Longitude'], df['Latitude']):\n",
    "    assigned = False\n",
    "    for region, poly in polygons.items():\n",
    "        path = mplPath.Path(poly)\n",
    "        if path.contains_point((lon, lat)):\n",
    "            region_labels.append(region)\n",
    "            assigned = True\n",
    "            break\n",
    "    if not assigned:\n",
    "        region_labels.append(\"Unassigned\")\n",
    "\n",
    "df['Region'] = region_labels\n",
    "df.to_csv(region_output, index=False)\n",
    "print(\"Saved:\", region_output)\n",
    "\n",
    "# Load Region Info\n",
    "region_df = pd.read_csv(region_output)\n",
    "\n",
    "# Helper Functions\n",
    "def read_ctd_profile(path, var_type):\n",
    "    try:\n",
    "        ds = xr.open_dataset(path)\n",
    "        if var_type == \"Theta\":\n",
    "            values = ds[\"potential_temperature\"].values\n",
    "        elif var_type == \"Salinity\":\n",
    "            values = ds[\"practical_salinity\"].values\n",
    "        else:\n",
    "            return None, None\n",
    "        depths = ds[\"depth\"].values\n",
    "        ds.close()\n",
    "        return depths, values\n",
    "    except:\n",
    "        return None, None\n",
    "\n",
    "def clean_profile(profile_string):\n",
    "    if pd.isna(profile_string):\n",
    "        return []\n",
    "    nums = re.findall(r'[-+]?[\\d]*\\.?[\\d]+', profile_string)\n",
    "    return [float(x) for x in nums if float(x) != 0.0]\n",
    "\n",
    "def load_oras5_data(csv_path, var_type):\n",
    "    df = pd.read_csv(csv_path)\n",
    "    df[\"Var_type\"] = var_type\n",
    "    df[\"Profile\"] = df[\"Profile\"].apply(clean_profile)\n",
    "    return df\n",
    "\n",
    "# Load ORAS5 Summary Data\n",
    "df_temp = load_oras5_data(oras_temp_csv, \"Theta\")\n",
    "df_salt = load_oras5_data(oras_salt_csv, \"Salinity\")\n",
    "df_all = pd.concat([df_temp, df_salt], ignore_index=True)\n",
    "df_all[\"File_ID\"] = df_all[\"CTD_file\"].str.replace(\"CTD_\", \"\", regex=False).str.replace(\".nc\", \"\", regex=False)\n",
    "df_all = df_all.merge(region_df[[\"File_ID\", \"Region\"]], on=\"File_ID\", how=\"left\")\n",
    "df_all[\"Region\"] = df_all[\"Region\"].fillna(\"Unassigned\")\n",
    "\n",
    "# Compute Differences\n",
    "diffs_by_group = {}\n",
    "for (region, var_type), group in df_all.groupby([\"Region\", \"Var_type\"]):\n",
    "    key = (region, var_type)\n",
    "    region_diffs = []\n",
    "\n",
    "    for _, row in group.iterrows():\n",
    "        ctd_path = os.path.join(ctd_base_path, row[\"CTD_file\"])\n",
    "        if not os.path.exists(ctd_path):\n",
    "            continue\n",
    "\n",
    "        oras_profile = np.array(row[\"Profile\"])\n",
    "        ctd_depths, ctd_values = read_ctd_profile(ctd_path, var_type)\n",
    "\n",
    "        if (\n",
    "            oras_profile is None or len(oras_profile) == 0 or\n",
    "            ctd_values is None or len(ctd_values) == 0 or\n",
    "            ctd_depths is None or len(ctd_depths) == 0\n",
    "        ):\n",
    "            continue\n",
    "\n",
    "        interp_len = min(len(oras_profile), len(ctd_values))\n",
    "        common_depths = np.linspace(ctd_depths.min(), ctd_depths.max(), interp_len)\n",
    "        ctd_interp = np.interp(common_depths, ctd_depths, ctd_values)\n",
    "        oras_interp = np.interp(common_depths,\n",
    "                                np.linspace(ctd_depths.min(), ctd_depths.max(), len(oras_profile)),\n",
    "                                oras_profile)\n",
    "\n",
    "        region_diffs.extend(oras_interp - ctd_interp)\n",
    "\n",
    "    diffs_by_group[key] = region_diffs\n",
    "\n",
    "# Plotting with GridSpec\n",
    "region_positions = {\n",
    "    \"N\": (0, 0), \"NW\": (1, 0), \"CW\": (2, 0), \"SW\": (3, 0),\n",
    "    \"NE\": (0, 1), \"CE\": (1, 1), \"SE\": (2, 1)\n",
    "}\n",
    "regions = list(region_positions.keys())\n",
    "\n",
    "for var_type in [\"Theta\", \"Salinity\"]:\n",
    "    fig = plt.figure(figsize=(20, 10))\n",
    "    fig.suptitle(f\"{var_type} Differences Across Regions (ORAS5 - CTD)\", fontsize=16)\n",
    "    gs = gridspec.GridSpec(4, 2, figure=fig)\n",
    "\n",
    "    for region in regions:\n",
    "        row, col = region_positions[region]\n",
    "        ax = fig.add_subplot(gs[row, col])\n",
    "        key = (region, var_type)\n",
    "        diffs = diffs_by_group.get(key, [])\n",
    "\n",
    "        if not diffs:\n",
    "            ax.set_title(f\"{region} (No Data)\")\n",
    "            ax.axis(\"off\")\n",
    "            continue\n",
    "\n",
    "        diffs = np.array(diffs)\n",
    "        diffs = diffs[~np.isnan(diffs)]\n",
    "        diffs = diffs[np.abs(diffs) < 5]  # remove extreme outliers\n",
    "\n",
    "        if len(diffs) == 0:\n",
    "            ax.set_title(f\"{region} (No Valid Data)\")\n",
    "            ax.axis(\"off\")\n",
    "            continue\n",
    "\n",
    "        mean_diff = np.mean(diffs)\n",
    "        ax.hist(diffs, bins=50, color=\"black\", edgecolor=\"skyblue\")\n",
    "        ax.axvline(mean_diff, color=\"red\", linestyle=\"--\", label=f\"Mean = {mean_diff:.2f}\")\n",
    "        ax.set_title(region)\n",
    "        ax.set_xlabel(\"ORAS5 - CTD\")\n",
    "        ax.set_ylabel(\"Count\")\n",
    "        ax.grid(True)\n",
    "        ax.legend()\n",
    "\n",
    "    plt.tight_layout(rect=[0, 0, 1, 0.95])\n",
    "    filename = f\"ORAS5_{var_type}_hist_by_region.png\"\n",
    "    plt.savefig(os.path.join(output_dir, filename), dpi=300)\n",
    "    plt.close()\n",
    "\n",
    "print(f\"Saved plots to: {output_dir}\")\n"
   ]
  },
  {
   "cell_type": "code",
   "execution_count": null,
   "id": "f06863f6-5d66-4231-b917-0ff0d2cd6b69",
   "metadata": {},
   "outputs": [],
   "source": []
  }
 ],
 "metadata": {
  "kernelspec": {
   "display_name": "oceanModeling",
   "language": "python",
   "name": "oceanmodeling"
  },
  "language_info": {
   "codemirror_mode": {
    "name": "ipython",
    "version": 3
   },
   "file_extension": ".py",
   "mimetype": "text/x-python",
   "name": "python",
   "nbconvert_exporter": "python",
   "pygments_lexer": "ipython3",
   "version": "3.11.0"
  }
 },
 "nbformat": 4,
 "nbformat_minor": 5
}
