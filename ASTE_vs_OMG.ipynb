{
 "cells": [
  {
   "cell_type": "markdown",
   "id": "c9295094-549c-456a-af66-8cf6d6573563",
   "metadata": {},
   "source": [
    "## ASTE Plots"
   ]
  },
  {
   "cell_type": "markdown",
   "id": "ac2ba7fe-6073-40b3-9fd0-b8990f1159ee",
   "metadata": {},
   "source": [
    "### Imports"
   ]
  },
  {
   "cell_type": "code",
   "execution_count": 11,
   "id": "cbe4575b-d623-4396-884f-6940e965f65e",
   "metadata": {},
   "outputs": [],
   "source": [
    "import xarray as xr\n",
    "import numpy as np\n",
    "import matplotlib.pyplot as plt\n",
    "import csv\n",
    "import os\n",
    "import pandas as pd\n",
    "import re # Import for regex\n",
    "from matplotlib import gridspec"
   ]
  },
  {
   "cell_type": "code",
   "execution_count": 12,
   "id": "01352529-9c38-4606-ac53-c3964275567b",
   "metadata": {},
   "outputs": [
    {
     "name": "stdout",
     "output_type": "stream",
     "text": [
      "Requirement already satisfied: geopandas in /Applications/miniconda3/envs/oceanModeling/lib/python3.11/site-packages (1.1.0)\n",
      "Requirement already satisfied: numpy>=1.24 in /Applications/miniconda3/envs/oceanModeling/lib/python3.11/site-packages (from geopandas) (1.26.4)\n",
      "Requirement already satisfied: pyogrio>=0.7.2 in /Applications/miniconda3/envs/oceanModeling/lib/python3.11/site-packages (from geopandas) (0.11.0)\n",
      "Requirement already satisfied: packaging in /Applications/miniconda3/envs/oceanModeling/lib/python3.11/site-packages (from geopandas) (24.1)\n",
      "Requirement already satisfied: pandas>=2.0.0 in /Applications/miniconda3/envs/oceanModeling/lib/python3.11/site-packages (from geopandas) (2.2.2)\n",
      "Requirement already satisfied: pyproj>=3.5.0 in /Applications/miniconda3/envs/oceanModeling/lib/python3.11/site-packages (from geopandas) (3.6.1)\n",
      "Requirement already satisfied: shapely>=2.0.0 in /Applications/miniconda3/envs/oceanModeling/lib/python3.11/site-packages (from geopandas) (2.0.5)\n",
      "Requirement already satisfied: python-dateutil>=2.8.2 in /Applications/miniconda3/envs/oceanModeling/lib/python3.11/site-packages (from pandas>=2.0.0->geopandas) (2.9.0.post0)\n",
      "Requirement already satisfied: pytz>=2020.1 in /Applications/miniconda3/envs/oceanModeling/lib/python3.11/site-packages (from pandas>=2.0.0->geopandas) (2024.1)\n",
      "Requirement already satisfied: tzdata>=2022.7 in /Applications/miniconda3/envs/oceanModeling/lib/python3.11/site-packages (from pandas>=2.0.0->geopandas) (2023.3)\n",
      "Requirement already satisfied: certifi in /Applications/miniconda3/envs/oceanModeling/lib/python3.11/site-packages (from pyogrio>=0.7.2->geopandas) (2024.8.30)\n",
      "Requirement already satisfied: six>=1.5 in /Applications/miniconda3/envs/oceanModeling/lib/python3.11/site-packages (from python-dateutil>=2.8.2->pandas>=2.0.0->geopandas) (1.16.0)\n"
     ]
    }
   ],
   "source": [
    "!pip install geopandas\n",
    "import geopandas as gpd"
   ]
  },
  {
   "cell_type": "code",
   "execution_count": 3,
   "id": "a688746e-3728-4325-8924-062655aca9dc",
   "metadata": {},
   "outputs": [],
   "source": [
    "#from shapely.geometry import Point"
   ]
  },
  {
   "cell_type": "markdown",
   "id": "4aa99cb0-1cd7-4afd-b5e2-a798e6c4dc41",
   "metadata": {},
   "source": [
    "### Get all the OMG data"
   ]
  },
  {
   "cell_type": "code",
   "execution_count": 13,
   "id": "8725cb3c-fb5a-45c8-af16-67afd8994d4c",
   "metadata": {},
   "outputs": [],
   "source": [
    "def get_all_nc_files(folder):\n",
    "    nc_files = []\n",
    "    for root, dirs, files in os.walk(folder):\n",
    "        for file in files:\n",
    "            if file.endswith(\".nc\"):\n",
    "                nc_files.append(os.path.join(root, file))\n",
    "                #nc_files.append(file)\n",
    "    return nc_files"
   ]
  },
  {
   "cell_type": "code",
   "execution_count": 14,
   "id": "42b85974-4d67-4246-a02d-56ee52ef1cf8",
   "metadata": {},
   "outputs": [],
   "source": [
    "omg_09_2016 = get_all_nc_files('/Users/sherine_aldrin/Downloads/CoOL/ASTE_Greenland_Model/Monthly_OMG_2016/09_September')\n",
    "omg_10_2016 = get_all_nc_files('/Users/sherine_aldrin/Downloads/CoOL/ASTE_Greenland_Model/Monthly_OMG_2016/10_October')\n",
    "omg_10_2017 = get_all_nc_files('/Users/sherine_aldrin/Downloads/CoOL/ASTE_Greenland_Model/Monthly_OMG_2017/10_October')\n",
    "\n",
    "#omg_09_2016[:3] for testing\n",
    "\n",
    "omg_data = [\n",
    "    (omg_09_2016, 176),   # index 176\n",
    "    (omg_10_2016, 177),  # index 177\n",
    "    (omg_10_2017, 189)   # index 189\n",
    "]"
   ]
  },
  {
   "cell_type": "markdown",
   "id": "72fbc498-beef-442f-bf11-fae22bfbdf64",
   "metadata": {},
   "source": [
    "### All the ASTE data"
   ]
  },
  {
   "cell_type": "code",
   "execution_count": 15,
   "id": "4a6d43c4-c9d4-4f6f-94c5-0dc97b2b57f6",
   "metadata": {},
   "outputs": [],
   "source": [
    "aste_base_path = \"/Users/sherine_aldrin/Downloads/CoOL/ASTE_Greenland_Model\"\n",
    "asteData = [os.path.join(aste_base_path, f) for f in [\"THETA.0005.nc\", \"THETA.0011.nc\",\n",
    "                \"THETA.0012.nc\", \"THETA.0014.nc\",\n",
    "                \"THETA.0015.nc\", \"THETA.0024.nc\",\n",
    "                \"THETA.0027.nc\", \"SALT.0005.nc\",\n",
    "                \"SALT.0011.nc\", \"SALT.0012.nc\",\n",
    "                \"SALT.0014.nc\", \"SALT.0015.nc\",\n",
    "                \"SALT.0024.nc\", \"SALT.0027.nc\"]]\n"
   ]
  },
  {
   "cell_type": "markdown",
   "id": "ba55e869-e3ae-496b-8043-02a7d05879ec",
   "metadata": {},
   "source": [
    "### Making the CSV file with all the data"
   ]
  },
  {
   "cell_type": "code",
   "execution_count": 16,
   "id": "896c741b-fdbb-4b40-abd5-52d131978ad7",
   "metadata": {},
   "outputs": [],
   "source": [
    "# returns distances between my point and all the other points, from Prof\n",
    "def great_circle_distance(lon_ref, lat_ref, Lon, Lat):\n",
    "    earth_radius = 6371000\n",
    "    lon_ref_radians = np.radians(lon_ref)\n",
    "    lat_ref_radians = np.radians(lat_ref)\n",
    "    lons_radians = np.radians(Lon)\n",
    "    lats_radians = np.radians(Lat)\n",
    "    lat_diff = lats_radians - lat_ref_radians\n",
    "    lon_diff = lons_radians - lon_ref_radians\n",
    "    d = np.sin(lat_diff * 0.5) ** 2 + np.cos(lat_ref_radians) * np.cos(lats_radians) * np.sin(lon_diff * 0.5) ** 2\n",
    "    h = 2 * earth_radius * np.arcsin(np.sqrt(d))\n",
    "    return(h)"
   ]
  },
  {
   "cell_type": "code",
   "execution_count": 17,
   "id": "73406f86-1c56-4a3a-af95-78b2621a74e4",
   "metadata": {},
   "outputs": [
    {
     "name": "stdout",
     "output_type": "stream",
     "text": [
      "Saved: first_ASTE_profiles.csv\n"
     ]
    }
   ],
   "source": [
    "# To have for the csv file\n",
    "summary_rows = []\n",
    "\n",
    "for omg_month, time_index in omg_data:\n",
    "    # get each omg file itself\n",
    "    for path in omg_month:\n",
    "        omg = xr.open_dataset(path)\n",
    "        lat_omg = omg.attrs[\"latitude\"]\n",
    "        lon_omg = omg.attrs[\"longitude\"]\n",
    "\n",
    "        #for each variable in the omg file\n",
    "        for var_type in [\"THETA\", \"SALT\"]:\n",
    "            closest_distance = 1e22 # placeholder for comparing later on\n",
    "            closest_lat = None\n",
    "            closest_lon = None\n",
    "            closest_tile = None\n",
    "            closest_profile = None\n",
    "\n",
    "            for aste_file in asteData:\n",
    "                file_var = os.path.basename(aste_file).split('.')[0]# to get theta or salinity\n",
    "                \n",
    "                if file_var != var_type:\n",
    "                    continue\n",
    "\n",
    "                aste = xr.open_dataset(aste_file)\n",
    "\n",
    "                # Rename dimensions to standard ones (based on aste data)\n",
    "                aste_renamed = aste.rename({'i1': 'time', 'i2': 'depth', 'i3': 'row', 'i4': 'col'})\n",
    "\n",
    "                if var_type not in aste_renamed.variables:\n",
    "                    print(f\"Variable {var_type} not found in {aste_file}\")\n",
    "                    continue\n",
    "\n",
    "                var = aste_renamed[var_type] # the variables, temperatures and salinities\n",
    "                aste_lon = aste[\"lon\"].values\n",
    "                aste_lat = aste[\"lat\"].values\n",
    "\n",
    "                dists = great_circle_distance(lon_omg, lat_omg, aste_lon, aste_lat)\n",
    "\n",
    "                if dists.min() < closest_distance:\n",
    "                    closest_distance = dists.min()\n",
    "                    closest_row, closest_col = np.unravel_index(np.argmin(dists), dists.shape)\n",
    "\n",
    "                    profile = var[time_index, :, closest_row, closest_col].values\n",
    "\n",
    "                    if np.any(profile != 0):\n",
    "                        closest_profile = profile\n",
    "                        closest_lat = aste_lat[closest_row, closest_col]\n",
    "                        closest_lon = aste_lon[closest_row, closest_col]\n",
    "                        closest_tile = aste_file\n",
    "\n",
    "            if closest_profile is not None:\n",
    "                ctd_filename = os.path.basename(path)\n",
    "\n",
    "\n",
    "                date_part = ctd_filename.split(\"_\")[1]\n",
    "                year = date_part[:4]\n",
    "                month = date_part[4:6]\n",
    "                \n",
    "                summary_rows.append({\n",
    "                    \"CTD_file\": os.path.basename(path),\n",
    "                    \"Year\": year,\n",
    "                    \"Month\": month,\n",
    "                    \"ASTE_tile\": closest_tile,\n",
    "                    \"ASTE_lat\": closest_lat,\n",
    "                    \"Distance\": closest_distance / 1000,\n",
    "                    \"ASTE_lon\": closest_lon,\n",
    "                    \"Var_type\": var_type,\n",
    "                    \"Profile\": closest_profile.tolist()\n",
    "                })\n",
    "\n",
    "# Save results to CSV\n",
    "with open(\"first_ASTE_profiles.csv\", \"w\", newline=\"\") as f:\n",
    "    writer = csv.DictWriter(f, fieldnames=[\"CTD_file\", \"Year\", \"Month\", \"ASTE_tile\", \"ASTE_lat\", \"Distance\", \"ASTE_lon\", \"Var_type\", \"Profile\"])\n",
    "    writer.writeheader()\n",
    "    writer.writerows(summary_rows)\n",
    "\n",
    "\n",
    "print(\"Saved: first_ASTE_profiles.csv\")"
   ]
  },
  {
   "cell_type": "markdown",
   "id": "a115c041-dd3b-48fc-868a-d14a79b10868",
   "metadata": {},
   "source": [
    "### At this point, I used QGIS's vector layer feature to figure out which points from the OMG/ASTE data points were in certain regions. I merged them onto a \"joined\" layer and added the \"region\" layer to the csv."
   ]
  },
  {
   "cell_type": "code",
   "execution_count": 18,
   "id": "718e60ee-a431-4fdb-b8a9-6a0e1c1bf9fb",
   "metadata": {},
   "outputs": [
    {
     "name": "stdout",
     "output_type": "stream",
     "text": [
      "Current directory is now: /Users/sherine_aldrin/Downloads/CoOL/ASTE_Greenland_Model\n"
     ]
    }
   ],
   "source": [
    "new_dir = \"/Users/sherine_aldrin/Downloads/CoOL/ASTE_Greenland_Model\"\n",
    "os.chdir(new_dir)\n",
    "\n",
    "print(\"Current directory is now:\", os.getcwd())"
   ]
  },
  {
   "cell_type": "code",
   "execution_count": 19,
   "id": "9cde5849-da29-4bd6-a2a1-c9359e8d32cd",
   "metadata": {},
   "outputs": [
    {
     "name": "stdout",
     "output_type": "stream",
     "text": [
      "Updated CSV saved with ASTE_year and ASTE_month columns called FINAL_aste_regional.\n"
     ]
    }
   ],
   "source": [
    "# Build lookup from CTD filename to time index\n",
    "ctd_to_time_index = {}\n",
    "for omg_month, time_index in omg_data:\n",
    "    for path in omg_month:\n",
    "        filename = os.path.basename(path)\n",
    "        ctd_to_time_index[filename] = time_index\n",
    "\n",
    "def get_aste_date(time_index):\n",
    "    # Generate monthly dates from Jan 2002\n",
    "    dates = pd.date_range(start='2002-01-01', periods=300, freq='MS')\n",
    "    if time_index >= len(dates):\n",
    "        return (np.nan, np.nan)\n",
    "    date = dates[time_index]\n",
    "    return date.year, date.month\n",
    "\n",
    "\n",
    "# Load existing summary CSV (made from merging data in QGIS)\n",
    "df = pd.read_csv(\"aste_regional.csv\")\n",
    "\n",
    "# Make a mapping from basename to full path for ASTE files\n",
    "aste_files = {\n",
    "    os.path.basename(f): f\n",
    "    for f in asteData  # reuse original list of ASTE file paths\n",
    "}\n",
    "\n",
    "# Add new columns\n",
    "df[\"ASTE_year\"] = np.nan\n",
    "df[\"ASTE_month\"] = np.nan\n",
    "\n",
    "# Fill new columns using the lookup and ASTE file info\n",
    "for i, row in df.iterrows():\n",
    "    ctd_file = row[\"CTD_file\"]\n",
    "    aste_tile = os.path.basename(row[\"ASTE_tile\"])\n",
    "\n",
    "    time_index = ctd_to_time_index.get(ctd_file, None)\n",
    "\n",
    "    if time_index is not None:\n",
    "        year, month = get_aste_date(time_index)\n",
    "        df.at[i, \"ASTE_year\"] = year\n",
    "        df.at[i, \"ASTE_month\"] = month\n",
    "\n",
    "\n",
    "df.to_csv(\"FINAL_aste_regional.csv\", index=False)\n",
    "print(\"Updated CSV saved with ASTE_year and ASTE_month columns called FINAL_aste_regional.\")\n"
   ]
  },
  {
   "cell_type": "markdown",
   "id": "7660a97b-0e61-4dea-b720-70c26faf3e3f",
   "metadata": {},
   "source": [
    "### So now the csv with all the data is called \"FINAL_aste_regional\"."
   ]
  },
  {
   "cell_type": "markdown",
   "id": "3a0c35ee-e3ef-4408-b5d4-fe7a95003b30",
   "metadata": {},
   "source": [
    "## Now the code below will make the plots"
   ]
  },
  {
   "cell_type": "code",
   "execution_count": 24,
   "id": "9ad9d169-41cf-414d-aa4b-45bbef55e02f",
   "metadata": {},
   "outputs": [
    {
     "name": "stdout",
     "output_type": "stream",
     "text": [
      "Saved plots to folder: separated_gridspec_histograms\n"
     ]
    }
   ],
   "source": [
    "# Paths\n",
    "csv_path = \"FINAL_aste_regional.csv\"\n",
    "ctd_base_paths = {\n",
    "    \"2016\": \"./Monthly_OMG_2016\",\n",
    "    \"2017\": \"./Monthly_OMG_2017\",\n",
    "}\n",
    "plot_folder = \"separated_gridspec_histograms\"\n",
    "os.makedirs(plot_folder, exist_ok=True)\n",
    "\n",
    "# Load and Clean CSV\n",
    "df = pd.read_csv(csv_path)\n",
    "\n",
    "# Parse ASTE profile strings and remove trailing 0.0s\n",
    "def clean_profile(profile_string):\n",
    "    if pd.isna(profile_string):\n",
    "        return []\n",
    "    nums = re.findall(r'[-+]?\\d*\\.?\\d+', profile_string)\n",
    "    floats = [float(x) for x in nums if float(x) != 0.0]\n",
    "    return floats\n",
    "\n",
    "df['Profile'] = df['Profile'].apply(clean_profile) # actually clean up the column and get rid of the zeroes\n",
    "\n",
    "# Functiom to read the omg CTD file\n",
    "def read_ctd_profile(path, var_type):\n",
    "    try:\n",
    "        ds = xr.open_dataset(path)\n",
    "        if var_type == \"THETA\":\n",
    "            values = ds[\"potential_temperature\"].values\n",
    "        elif var_type == \"SALT\":\n",
    "            values = ds[\"practical_salinity\"].values\n",
    "        else:\n",
    "            return None, None\n",
    "        depths = ds[\"depth\"].values\n",
    "        ds.close()\n",
    "        return depths, values\n",
    "    except:\n",
    "        return None, None\n",
    "\n",
    "# Compute Differences (this is what will be on the histograms)\n",
    "diffs_by_group = {}\n",
    "regions = sorted(df[\"Region\"].dropna().unique()) # get each region\n",
    "\n",
    "for (region, var_type), group in df.groupby([\"Region\", \"Var_type\"]):\n",
    "    key = (region, var_type)\n",
    "    region_diffs = []\n",
    "\n",
    "    for _, row in group.iterrows():\n",
    "        year_str = str(int(row[\"Year\"]))\n",
    "        month_num = int(row[\"Month\"])\n",
    "        month_name = pd.to_datetime(f\"{year_str}-{month_num:02d}-01\").strftime('%B')\n",
    "        ctd_path = os.path.join(ctd_base_paths[year_str], f\"{month_num:02d}_{month_name}\", row[\"CTD_file\"])\n",
    "\n",
    "        if not os.path.exists(ctd_path):\n",
    "            continue\n",
    "\n",
    "        aste_profile = np.array(row[\"Profile\"])\n",
    "        ctd_depths, ctd_values = read_ctd_profile(ctd_path, var_type)\n",
    "\n",
    "        if (\n",
    "            aste_profile is None or len(aste_profile) == 0 or\n",
    "            ctd_values is None or len(ctd_values) == 0 or\n",
    "            ctd_depths is None or len(ctd_depths) == 0\n",
    "        ):\n",
    "            continue\n",
    "\n",
    "        interp_len = min(len(aste_profile), len(ctd_values))\n",
    "        common_depths = np.linspace(ctd_depths.min(), ctd_depths.max(), interp_len)\n",
    "        ctd_interp = np.interp(common_depths, ctd_depths, ctd_values)\n",
    "        aste_interp = np.interp(common_depths,\n",
    "                                np.linspace(ctd_depths.min(), ctd_depths.max(), len(aste_profile)),\n",
    "                                aste_profile)\n",
    "\n",
    "        region_diffs.extend(aste_interp - ctd_interp)\n",
    "\n",
    "    diffs_by_group[key] = region_diffs # the list of ASTE - CTD differences\n",
    "\n",
    "\n",
    "\n",
    "region_positions = {\n",
    "            \"N\": (0, 0),\n",
    "            \"NW\":  (1, 0),\n",
    "            \"CW\": (2, 0),\n",
    "            \"SW\": (3, 0),\n",
    "            \"NE\": (0, 1),\n",
    "            \"CE\": (1, 1),\n",
    "            \"SE\": (2, 1)\n",
    "            }\n",
    "\n",
    "regions = list(region_positions.keys())\n",
    "\n",
    "\n",
    "# Plotting with GridSpec\n",
    "for var_type in [\"THETA\", \"SALT\"]:\n",
    "    fig = plt.figure(figsize=(20, 10))\n",
    "    fig.suptitle(f\"{var_type} Differences Across Regions\", fontsize=16)\n",
    "    gs = gridspec.GridSpec(4, 2, figure=fig)\n",
    "\n",
    "    for region in regions:\n",
    "        row, col = region_positions[region]\n",
    "        ax = fig.add_subplot(gs[row, col])\n",
    "        key = (region, var_type)\n",
    "        diffs = diffs_by_group.get(key, [])\n",
    "\n",
    "        if not diffs:\n",
    "            ax.set_title(f\"{region} (No Data)\")\n",
    "            ax.axis(\"off\")\n",
    "            continue\n",
    "\n",
    "        # Clean diffs: remove extreme outliers\n",
    "        diffs = np.array(diffs)\n",
    "        diffs = diffs[~np.isnan(diffs)]\n",
    "        diffs = diffs[np.abs(diffs) < 5]  # Remove outliers\n",
    "\n",
    "        if len(diffs) == 0:\n",
    "            ax.set_title(f\"{region} (No Valid Data)\")\n",
    "            ax.axis(\"off\")\n",
    "            continue\n",
    "\n",
    "        mean_diff = np.mean(diffs)\n",
    "            \n",
    "        ax.hist(diffs, bins=50, color=\"green\", edgecolor=\"black\") # more bins! See the differences clearer\n",
    "        ax.axvline(mean_diff, color=\"red\", linestyle=\"--\", label=f\"Mean = {mean_diff:.2f}\")\n",
    "        ax.set_title(region)\n",
    "        ax.set_xlabel(\"ASTE - CTD\")\n",
    "        ax.set_ylabel(\"Count\")\n",
    "        ax.grid(True)\n",
    "        ax.legend()\n",
    "\n",
    "\n",
    "        plt.tight_layout(rect=[0, 0, 1, 0.95])\n",
    "\n",
    "\n",
    "    # Saving the figure \n",
    "    plt.tight_layout(rect=[0, 0, 1, 0.95])\n",
    "    filename = f\"{var_type}_gridspec_cleaned.png\".replace(\" \", \"_\")\n",
    "    plt.savefig(os.path.join(plot_folder, filename), dpi=300)\n",
    "    plt.close()\n",
    "\n",
    "print(f\"Saved plots to folder: {plot_folder}\")\n"
   ]
  },
  {
   "cell_type": "code",
   "execution_count": null,
   "id": "bb660371-d89a-477e-bd86-bd030a75ee13",
   "metadata": {},
   "outputs": [],
   "source": []
  }
 ],
 "metadata": {
  "kernelspec": {
   "display_name": "oceanModeling",
   "language": "python",
   "name": "oceanmodeling"
  },
  "language_info": {
   "codemirror_mode": {
    "name": "ipython",
    "version": 3
   },
   "file_extension": ".py",
   "mimetype": "text/x-python",
   "name": "python",
   "nbconvert_exporter": "python",
   "pygments_lexer": "ipython3",
   "version": "3.11.0"
  }
 },
 "nbformat": 4,
 "nbformat_minor": 5
}
